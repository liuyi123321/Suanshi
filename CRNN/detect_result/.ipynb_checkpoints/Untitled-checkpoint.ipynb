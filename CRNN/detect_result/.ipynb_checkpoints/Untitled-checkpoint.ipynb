{
 "cells": [
  {
   "cell_type": "code",
   "execution_count": 1,
   "id": "5cc01012-2989-475a-a5b8-a82f2ba9c3bb",
   "metadata": {},
   "outputs": [],
   "source": [
    "import pandas as pd\n",
    "result = pd.read_csv('result.csv')\n"
   ]
  },
  {
   "cell_type": "code",
   "execution_count": 3,
   "id": "f2402c47-e218-447d-a225-d49ba1a5608e",
   "metadata": {},
   "outputs": [
    {
     "data": {
      "text/html": [
       "<div>\n",
       "<style scoped>\n",
       "    .dataframe tbody tr th:only-of-type {\n",
       "        vertical-align: middle;\n",
       "    }\n",
       "\n",
       "    .dataframe tbody tr th {\n",
       "        vertical-align: top;\n",
       "    }\n",
       "\n",
       "    .dataframe thead th {\n",
       "        text-align: right;\n",
       "    }\n",
       "</style>\n",
       "<table border=\"1\" class=\"dataframe\">\n",
       "  <thead>\n",
       "    <tr style=\"text-align: right;\">\n",
       "      <th></th>\n",
       "      <th>Unnamed: 0</th>\n",
       "      <th>image_name</th>\n",
       "      <th>detection</th>\n",
       "    </tr>\n",
       "  </thead>\n",
       "  <tbody>\n",
       "    <tr>\n",
       "      <th>0</th>\n",
       "      <td>0</td>\n",
       "      <td>C:/Users/Bowell/Desktop/DEEPLEARNING/yolov5-ma...</td>\n",
       "      <td>12420=32</td>\n",
       "    </tr>\n",
       "    <tr>\n",
       "      <th>1</th>\n",
       "      <td>1</td>\n",
       "      <td>C:/Users/Bowell/Desktop/DEEPLEARNING/yolov5-ma...</td>\n",
       "      <td>3-0.32.7</td>\n",
       "    </tr>\n",
       "    <tr>\n",
       "      <th>2</th>\n",
       "      <td>2</td>\n",
       "      <td>C:/Users/Bowell/Desktop/DEEPLEARNING/yolov5-ma...</td>\n",
       "      <td>5215275</td>\n",
       "    </tr>\n",
       "    <tr>\n",
       "      <th>3</th>\n",
       "      <td>3</td>\n",
       "      <td>C:/Users/Bowell/Desktop/DEEPLEARNING/yolov5-ma...</td>\n",
       "      <td>83÷0.420</td>\n",
       "    </tr>\n",
       "    <tr>\n",
       "      <th>4</th>\n",
       "      <td>4</td>\n",
       "      <td>C:/Users/Bowell/Desktop/DEEPLEARNING/yolov5-ma...</td>\n",
       "      <td>81×50=4050</td>\n",
       "    </tr>\n",
       "    <tr>\n",
       "      <th>5</th>\n",
       "      <td>5</td>\n",
       "      <td>C:/Users/Bowell/Desktop/DEEPLEARNING/yolov5-ma...</td>\n",
       "      <td>3×5215</td>\n",
       "    </tr>\n",
       "    <tr>\n",
       "      <th>6</th>\n",
       "      <td>6</td>\n",
       "      <td>C:/Users/Bowell/Desktop/DEEPLEARNING/yolov5-ma...</td>\n",
       "      <td>6×50=300</td>\n",
       "    </tr>\n",
       "    <tr>\n",
       "      <th>7</th>\n",
       "      <td>7</td>\n",
       "      <td>C:/Users/Bowell/Desktop/DEEPLEARNING/yolov5-ma...</td>\n",
       "      <td>150+90=240</td>\n",
       "    </tr>\n",
       "    <tr>\n",
       "      <th>8</th>\n",
       "      <td>8</td>\n",
       "      <td>C:/Users/Bowell/Desktop/DEEPLEARNING/yolov5-ma...</td>\n",
       "      <td>350+60=420</td>\n",
       "    </tr>\n",
       "    <tr>\n",
       "      <th>9</th>\n",
       "      <td>9</td>\n",
       "      <td>C:/Users/Bowell/Desktop/DEEPLEARNING/yolov5-ma...</td>\n",
       "      <td>240×1=240</td>\n",
       "    </tr>\n",
       "    <tr>\n",
       "      <th>10</th>\n",
       "      <td>10</td>\n",
       "      <td>C:/Users/Bowell/Desktop/DEEPLEARNING/yolov5-ma...</td>\n",
       "      <td>256÷4=64</td>\n",
       "    </tr>\n",
       "  </tbody>\n",
       "</table>\n",
       "</div>"
      ],
      "text/plain": [
       "    Unnamed: 0                                         image_name   detection\n",
       "0            0  C:/Users/Bowell/Desktop/DEEPLEARNING/yolov5-ma...    12420=32\n",
       "1            1  C:/Users/Bowell/Desktop/DEEPLEARNING/yolov5-ma...    3-0.32.7\n",
       "2            2  C:/Users/Bowell/Desktop/DEEPLEARNING/yolov5-ma...     5215275\n",
       "3            3  C:/Users/Bowell/Desktop/DEEPLEARNING/yolov5-ma...    83÷0.420\n",
       "4            4  C:/Users/Bowell/Desktop/DEEPLEARNING/yolov5-ma...  81×50=4050\n",
       "5            5  C:/Users/Bowell/Desktop/DEEPLEARNING/yolov5-ma...      3×5215\n",
       "6            6  C:/Users/Bowell/Desktop/DEEPLEARNING/yolov5-ma...    6×50=300\n",
       "7            7  C:/Users/Bowell/Desktop/DEEPLEARNING/yolov5-ma...  150+90=240\n",
       "8            8  C:/Users/Bowell/Desktop/DEEPLEARNING/yolov5-ma...  350+60=420\n",
       "9            9  C:/Users/Bowell/Desktop/DEEPLEARNING/yolov5-ma...   240×1=240\n",
       "10          10  C:/Users/Bowell/Desktop/DEEPLEARNING/yolov5-ma...    256÷4=64"
      ]
     },
     "execution_count": 3,
     "metadata": {},
     "output_type": "execute_result"
    }
   ],
   "source": [
    "result"
   ]
  },
  {
   "cell_type": "code",
   "execution_count": 29,
   "id": "88b5b0d0-2cb5-41ad-a4b2-392a3152a99b",
   "metadata": {},
   "outputs": [],
   "source": [
    "left_exp = []\n",
    "right_exp = []\n",
    "for i in result.detection:\n",
    "    temp = i.split('=',1)\n",
    "    left_exp.append(temp[0])\n",
    "    if len(temp)==2:\n",
    "        right_exp.append(float(temp[1]))\n",
    "    else:\n",
    "        right_exp.append(-9999999)"
   ]
  },
  {
   "cell_type": "code",
   "execution_count": 30,
   "id": "4bd397d7-c276-4d48-abf5-62dcd5a703c9",
   "metadata": {},
   "outputs": [
    {
     "data": {
      "text/plain": [
       "[32.0,\n",
       " -9999999,\n",
       " -9999999,\n",
       " -9999999,\n",
       " 4050.0,\n",
       " -9999999,\n",
       " 300.0,\n",
       " 240.0,\n",
       " 420.0,\n",
       " 240.0,\n",
       " 64.0]"
      ]
     },
     "execution_count": 30,
     "metadata": {},
     "output_type": "execute_result"
    }
   ],
   "source": [
    "left_exp\n",
    "right_exp"
   ]
  },
  {
   "cell_type": "code",
   "execution_count": 54,
   "id": "36d20b3b-834a-4a38-8db6-cf934d6b22ba",
   "metadata": {},
   "outputs": [
    {
     "name": "stdout",
     "output_type": "stream",
     "text": [
      "a+b/c^d-e ab/cd^+e-\n",
      "5*1 51*\n",
      "['5', '1', '*']\n"
     ]
    }
   ],
   "source": [
    "class Stack(object):\n",
    "    '''堆栈'''\n",
    "    def __init__(self):\n",
    "        self._stack = []\n",
    "        \n",
    "    def pop(self):\n",
    "        return self._stack.pop()\n",
    "    \n",
    "    def push(self, x):\n",
    "        self._stack.append(x)\n",
    "    def is_null(self):\n",
    "        return self._stack==[]\n",
    "def solve(bds):\n",
    "    '''不带括号，引入#运算符'''\n",
    "    pro = dict(zip('^*÷+-#', [3,2,2,1,1,0]))\n",
    "    out = []\n",
    "    s = Stack()\n",
    "    s.push('#')\n",
    "    for x in bds:\n",
    "        if x in '^*÷+-':\n",
    "            t = s.pop()\n",
    "            while pro[x] <= pro[t]:\n",
    "                out.append(t)\n",
    "                t = s.pop()\n",
    "\n",
    "            s.push(t)\n",
    "            s.push(x)\n",
    "        else:\n",
    "            out.append(x)\n",
    "        \n",
    "    while not s.is_null():\n",
    "        out.append(s.pop())\n",
    "        \n",
    "    return out[:-1]\n",
    "bds1 = 'a+b/c^d-e'          # abcd^/+e-\n",
    "bds2 = '5*1'  \n",
    "print(bds1, ''.join(solve(bds1)))\n",
    "print(bds2, ''.join(solve(bds2)))\n",
    "print(solve(bds2))"
   ]
  },
  {
   "cell_type": "code",
   "execution_count": 60,
   "id": "5b8ed669-95c1-48d0-9ecf-4c7f58189f86",
   "metadata": {},
   "outputs": [
    {
     "name": "stdout",
     "output_type": "stream",
     "text": [
      "(50)*1 = 0.0\n"
     ]
    }
   ],
   "source": [
    "def solve5(bds):\n",
    "    '''根据后缀表达式求值'''\n",
    "    jishuan = {\n",
    "        '^': lambda x,y: x**y,\n",
    "        '*': lambda x,y: x*y,\n",
    "        '÷': lambda x,y: x/y,\n",
    "        '+': lambda x,y: x+y,\n",
    "        '-': lambda x,y: x-y\n",
    "    }\n",
    "    s = Stack()\n",
    "    for x in bds:\n",
    "        if x in '^*÷+-':\n",
    "            num2, num1 = s.pop(), s.pop()\n",
    "            r = jishuan[x](float(num1), float(num2))\n",
    "            s.push(r)\n",
    "        else:\n",
    "            s.push(x)\n",
    "\n",
    "    return s.pop()\n",
    "\n",
    "bds1 = '(50)*1'         # 2932^/+5-   -2\n",
    "# bds2 = '(1+2)*3-(4+5)/6'   # ab+c*de+f/- 7.5\n",
    "\n",
    "print(bds1, '=', solve5(solve(bds1)))\n",
    "test = solve5(solve(bds1))\n",
    "# for i,j in zip(left_exp,right_exp):\n",
    "#     if j == solve5(solve(i)):\n",
    "#         print(i, '=', j)\n",
    "#     else:\n",
    "#         print(i,'!=',j)"
   ]
  },
  {
   "cell_type": "code",
   "execution_count": 27,
   "id": "a6f22db6-1274-44b2-843c-ea0abb259c2d",
   "metadata": {},
   "outputs": [
    {
     "data": {
      "text/plain": [
       "-2.0"
      ]
     },
     "execution_count": 27,
     "metadata": {},
     "output_type": "execute_result"
    }
   ],
   "source": [
    "test"
   ]
  },
  {
   "cell_type": "code",
   "execution_count": 79,
   "id": "30e00f97-01c3-487c-8546-9a52baf31c4d",
   "metadata": {},
   "outputs": [
    {
     "name": "stdout",
     "output_type": "stream",
     "text": [
      "5\n",
      "*\n",
      "1\n",
      "['50', '1', '*']\n",
      "50.0\n"
     ]
    }
   ],
   "source": [
    "import operator\n",
    " \n",
    "opMap = {'+':operator.add,'-':operator.sub,\"/\":operator.truediv,\"*\":operator.mul}\n",
    "proMap = {'(':100,'+':3,'-':3,'*':8,'/':8,')':1,'#':0}\n",
    "#获取下个操作数\n",
    "def getNext(leftExpress):\n",
    "    t = leftExpress[0:1]\n",
    "    print(t)\n",
    "    if t.isnumeric():\n",
    "        for s in leftExpress[1:]:\n",
    "            if not s.isnumeric() or s!='.':\n",
    "                break\n",
    "            else:\n",
    "                t += s\n",
    "        return t\n",
    " \n",
    "    else:\n",
    "        return t\n",
    " \n",
    "def popStack():\n",
    "    while opStack[-1] != '(':\n",
    "        nStack.append(opStack.pop())\n",
    "    opStack.pop()\n",
    " \n",
    "def popStack2(s):\n",
    "    pro1 = proMap[s]\n",
    "    for i in range(len(opStack)):\n",
    "        op = opStack[-1]\n",
    "        if op == '(':\n",
    "            opStack.append(s)\n",
    "            break\n",
    "        else:\n",
    "            pro0 = proMap[op]\n",
    "            if pro0 < pro1:\n",
    "                opStack.append(s)\n",
    "                break\n",
    "            else:\n",
    "                nStack.append(opStack.pop())\n",
    " \n",
    "def calculate():\n",
    "    num = len(nStack)\n",
    "    i = 0\n",
    "    while num > 1:\n",
    "        c = nStack[i]\n",
    "        if not c.isnumeric():\n",
    "            x = nStack[i-1]\n",
    "            y = nStack[i-2]\n",
    "            res = opMap.get(c)(float(x),float(y))\n",
    "            nStack[i] = str(res)\n",
    "            nStack.remove(x)\n",
    "            nStack.remove(y)\n",
    "            i = 0\n",
    "        else:\n",
    "            i+=1\n",
    "        num = len(nStack)\n",
    "    return nStack.pop()\n",
    " \n",
    " \n",
    "def dealwith(s):\n",
    "    if s.isnumeric() or s=='.':\n",
    "        nStack.append(s)\n",
    "    elif s == '(':\n",
    "        opStack.append(s)\n",
    "    elif s == ')':\n",
    "        popStack()\n",
    "    elif opStack[-1] == '(':\n",
    "        opStack.append(s)\n",
    "    else:\n",
    "        op = opStack[-1]\n",
    "        pro0 = proMap[op]\n",
    "        pro1 = proMap[s]\n",
    "        if pro1 > pro0:\n",
    "            opStack.append(s)\n",
    "        else:\n",
    "            popStack2(s)\n",
    " \n",
    "def meger():            \n",
    "    while len(opStack) > 1:\n",
    "        nStack.append(opStack.pop())\n",
    " \n",
    " \n",
    "express = '50*1'\n",
    "opStack = ['#']\n",
    "nStack = []\n",
    "def run():\n",
    "    i = 0\n",
    "    l = len(express)\n",
    "    while i < l:\n",
    "        token = getNext(express[i:])\n",
    "#         print(token)\n",
    "        dealwith(token)\n",
    "        i+=len(token)\n",
    "    meger()\n",
    "    print(nStack)\n",
    "    print(calculate())\n",
    " \n",
    "if __name__ == '__main__':\n",
    "    run()"
   ]
  },
  {
   "cell_type": "code",
   "execution_count": 72,
   "id": "5a34e726-3988-4ba4-9946-716db1b029c8",
   "metadata": {},
   "outputs": [],
   "source": [
    "a = 3.5"
   ]
  },
  {
   "cell_type": "code",
   "execution_count": 73,
   "id": "edad5399-55c0-4a14-9b5a-ae72dda5a35e",
   "metadata": {},
   "outputs": [
    {
     "data": {
      "text/plain": [
       "False"
      ]
     },
     "execution_count": 73,
     "metadata": {},
     "output_type": "execute_result"
    }
   ],
   "source": [
    "str(a).isnumeric()"
   ]
  },
  {
   "cell_type": "code",
   "execution_count": null,
   "id": "7621e129-0ea2-438b-8bd3-6a864f8ec342",
   "metadata": {},
   "outputs": [],
   "source": []
  }
 ],
 "metadata": {
  "kernelspec": {
   "display_name": "Python 3",
   "language": "python",
   "name": "python3"
  },
  "language_info": {
   "codemirror_mode": {
    "name": "ipython",
    "version": 3
   },
   "file_extension": ".py",
   "mimetype": "text/x-python",
   "name": "python",
   "nbconvert_exporter": "python",
   "pygments_lexer": "ipython3",
   "version": "3.8.8"
  }
 },
 "nbformat": 4,
 "nbformat_minor": 5
}
